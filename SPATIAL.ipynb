{
 "cells": [
  {
   "cell_type": "markdown",
   "id": "6e9ca302",
   "metadata": {},
   "source": [
    "# This code fetches era5 monthly averaged reanalysis temperature data from cds from 1994 till 2024 for Africa and averages this 30-year temperature data to a singleband geotiff file for visualization in QGIS"
   ]
  },
  {
   "cell_type": "code",
   "execution_count": 1,
   "id": "a14c0404",
   "metadata": {},
   "outputs": [],
   "source": [
    "import cdsapi"
   ]
  },
  {
   "cell_type": "code",
   "execution_count": 22,
   "id": "082b5033",
   "metadata": {},
   "outputs": [],
   "source": [
    "import numpy as np"
   ]
  },
  {
   "cell_type": "code",
   "execution_count": 2,
   "id": "da78c551",
   "metadata": {},
   "outputs": [],
   "source": [
    "#set your CDS API key and url\n",
    "url = \"https://cds.climate.copernicus.eu/api/v2\"\n",
    "cdsapi_key = \"275708:61653f8b-f5e5-4f25-8400-f7cd5d1a67b1\""
   ]
  },
  {
   "cell_type": "code",
   "execution_count": 3,
   "id": "12da3d9b",
   "metadata": {},
   "outputs": [],
   "source": [
    "c = cdsapi.Client(url = url, key = cdsapi_key )"
   ]
  },
  {
   "cell_type": "code",
   "execution_count": 4,
   "id": "1b9c4338",
   "metadata": {},
   "outputs": [
    {
     "name": "stderr",
     "output_type": "stream",
     "text": [
      "2024-01-21 05:55:27,956 INFO Welcome to the CDS\n",
      "2024-01-21 05:55:27,961 INFO Sending request to https://cds.climate.copernicus.eu/api/v2/resources/reanalysis-era5-single-levels-monthly-means\n",
      "2024-01-21 05:55:28,456 INFO Request is completed\n",
      "2024-01-21 05:55:28,458 INFO Downloading https://download-0016.copernicus-climate.eu/cache-compute-0016/cache/data2/adaptor.mars.internal-1705773126.0350935-9805-13-9e29fb9d-f311-4830-ae7f-43c2a8c8b47c.grib to download.grib (70.5M)\n",
      "2024-01-21 05:58:21,233 ERROR Download interupted: HTTPSConnectionPool(host='download-0016.copernicus-climate.eu', port=443): Read timed out.\n",
      "2024-01-21 05:58:21,238 ERROR Download incomplete, downloaded 5501952 byte(s) out of 73958400\n",
      "2024-01-21 05:58:21,239 WARNING Sleeping 10 seconds\n",
      "2024-01-21 05:58:31,256 WARNING Resuming download at byte 5501952\n",
      "2024-01-21 06:01:15,131 INFO Download rate 208.3K/s                                                                    \n"
     ]
    },
    {
     "data": {
      "text/plain": [
       "Result(content_length=73958400,content_type=application/x-grib,location=https://download-0016.copernicus-climate.eu/cache-compute-0016/cache/data2/adaptor.mars.internal-1705773126.0350935-9805-13-9e29fb9d-f311-4830-ae7f-43c2a8c8b47c.grib)"
      ]
     },
     "execution_count": 4,
     "metadata": {},
     "output_type": "execute_result"
    }
   ],
   "source": [
    "c.retrieve(\n",
    "    'reanalysis-era5-single-levels-monthly-means',\n",
    "    {\n",
    "        'format': 'grib',\n",
    "        'product_type': 'monthly_averaged_reanalysis',\n",
    "        'variable': '2m_temperature',\n",
    "        'year': list(range(1994, 2024)),\n",
    "        'month': [\n",
    "            '01', '02', '03',\n",
    "            '04', '05', '06',\n",
    "            '07', '08', '09',\n",
    "            '10', '11', '12',\n",
    "        ],\n",
    "        'time': '00:00',\n",
    "        'area': [40, -25, -35, 60],\n",
    "    },\n",
    "    'download.grib')"
   ]
  },
  {
   "cell_type": "code",
   "execution_count": 23,
   "id": "cd4a9227",
   "metadata": {
    "scrolled": false
   },
   "outputs": [],
   "source": [
    "import xarray as xr\n",
    "#(used to handle Earth observation data which often involves multiple dimension e.g longitude, latitude, time)"
   ]
  },
  {
   "cell_type": "code",
   "execution_count": 24,
   "id": "5f88a260",
   "metadata": {},
   "outputs": [],
   "source": [
    "from osgeo import gdal, osr\n",
    "#(used for handling raster data and spatial references)"
   ]
  },
  {
   "cell_type": "code",
   "execution_count": 25,
   "id": "2058e8f0",
   "metadata": {},
   "outputs": [],
   "source": [
    "import cfgrib\n",
    "#(library, which is used to open and handle GRIB files)"
   ]
  },
  {
   "cell_type": "code",
   "execution_count": 26,
   "id": "97dfb668",
   "metadata": {},
   "outputs": [],
   "source": [
    "# Input GRIB file\n",
    "input_grib_file = 'download.grib'\n",
    "#(Variable that stores the path to the input GRIB file containing annual temperature data.)"
   ]
  },
  {
   "cell_type": "code",
   "execution_count": 28,
   "id": "d0b8f634",
   "metadata": {},
   "outputs": [],
   "source": [
    "# Output GeoTIFF file\n",
    "output_tiff_file = 'era5_mean_annual_temperature.tif'\n",
    "#(Variable that stores the desired name for the output single-band GeoTIFF file that will contain the mean temperature.)"
   ]
  },
  {
   "cell_type": "code",
   "execution_count": 30,
   "id": "b704478b",
   "metadata": {},
   "outputs": [],
   "source": [
    "# Open the GRIB file using cfgrib\n",
    "ds = cfgrib.open_dataset(input_grib_file)\n",
    "#(Variable that represents the opened GRIB dataset using the 'cfgrib.open_dataset' function. This dataset contains the temperature data.)"
   ]
  },
  {
   "cell_type": "code",
   "execution_count": 31,
   "id": "f75866be",
   "metadata": {},
   "outputs": [],
   "source": [
    "# Calculate annual means\n",
    "ds_annual = ds.resample(time='Y').mean(dim='time')\n",
    "#(calculate the mean of the 12 months era5 temperarure data)"
   ]
  },
  {
   "cell_type": "code",
   "execution_count": 32,
   "id": "50928357",
   "metadata": {
    "scrolled": true
   },
   "outputs": [],
   "source": [
    "# Extract latitude, longitude, and temperature data\n",
    "latitude = ds_annual.latitude.values #(Variable storing the latitude values extracted from the dataset.)\n",
    "longitude = ds_annual.longitude.values #(Variable storing the longitude values extracted from the dataset.)\n",
    "temperature = ds_annual.t2m.values #(Variable storing the 3D array of temperature values extracted from the dataset. The dimensions are (30, 301, 341), representing time, longitude, and latitude, respectively.)"
   ]
  },
  {
   "cell_type": "code",
   "execution_count": 33,
   "id": "87466807",
   "metadata": {},
   "outputs": [],
   "source": [
    "# Calculate mean temperature across all years\n",
    "mean_temperature = np.mean(temperature, axis=0)\n",
    "#(Variable storing the calculated mean temperature by taking the mean along the time axis (axis=0) of the 3D temperature array.)"
   ]
  },
  {
   "cell_type": "code",
   "execution_count": 35,
   "id": "b58bc8ab",
   "metadata": {},
   "outputs": [],
   "source": [
    "# Create a single-band GeoTIFF file\n",
    "driver = gdal.GetDriverByName('GTiff') #(Variable storing the GDAL driver for creating a GeoTIFF file.)\n",
    "tiff_dataset = driver.Create(output_tiff_file, len(longitude), len(latitude), 1, gdal.GDT_Float32)\n",
    "#(Variable representing the newly created GeoTIFF dataset using the 'Create' method. It has a single band (1), and data type is set to 32-bit floating-point)"
   ]
  },
  {
   "cell_type": "code",
   "execution_count": 36,
   "id": "86661b86",
   "metadata": {},
   "outputs": [],
   "source": [
    "# Set GeoTIFF metadata\n",
    "tiff_dataset.SetGeoTransform((longitude.min(), np.abs(longitude[1] - longitude[0]), 0, latitude.max(), 0, -np.abs(latitude[1] - latitude[0])))\n",
    "#(Sets the geotransform parameters (spatial information) based on the minimum longitude, longitude resolution, maximum latitude, and latitude resolution.)"
   ]
  },
  {
   "cell_type": "code",
   "execution_count": 37,
   "id": "e9a22c10",
   "metadata": {},
   "outputs": [],
   "source": [
    "# Create a SpatialReference object and set the projection\n",
    "srs = osr.SpatialReference() #(Variable representing a SpatialReference object.)\n",
    "srs.ImportFromEPSG(4326)  #(Imports the WGS 84 spatial reference system using its EPSG code.)\n",
    "tiff_dataset.SetProjection(srs.ExportToWkt())  #(Sets the projection of the GeoTIFF dataset using the spatial reference system.)"
   ]
  },
  {
   "cell_type": "code",
   "execution_count": 38,
   "id": "a95991cd",
   "metadata": {},
   "outputs": [],
   "source": [
    "# Write mean temperature data to GeoTIFF\n",
    "tiff_band = tiff_dataset.GetRasterBand(1) #(Variable representing the single band of the GeoTIFF dataset.)\n",
    "tiff_band.WriteArray(mean_temperature) #(Writes the mean temperature data to the GeoTIFF band.)\n",
    "tiff_band.SetNoDataValue(np.nan) #(Sets NaN as the NoData value.)\n",
    "tiff_band.FlushCache()  #(Flushes the cache to ensure data is written to the file.)"
   ]
  },
  {
   "cell_type": "code",
   "execution_count": 39,
   "id": "6c72c6a4",
   "metadata": {},
   "outputs": [],
   "source": [
    "for i in range(len(latitude)):\n",
    "    tiff_band.WriteArray(mean_temperature[i:i+1, :])"
   ]
  },
  {
   "cell_type": "code",
   "execution_count": 40,
   "id": "3fa10adf",
   "metadata": {},
   "outputs": [],
   "source": [
    "# Close the datasets\n",
    "ds.close() #(Closes the input GRIB dataset.)\n",
    "tiff_dataset = None"
   ]
  },
  {
   "cell_type": "code",
   "execution_count": 41,
   "id": "d56344b6",
   "metadata": {},
   "outputs": [],
   "source": [
    "print(\"Min Temperature:\", np.nanmin(mean_temperature))\n",
    "print(\"Max Temperature:\", np.nanmax(mean_temperature))"
   ]
  },
  {
   "cell_type": "code",
   "execution_count": null,
   "id": "69ad68f1",
   "metadata": {},
   "outputs": [],
   "source": []
  }
 ],
 "metadata": {
  "kernelspec": {
   "display_name": "Python 3 (ipykernel)",
   "language": "python",
   "name": "python3"
  },
  "language_info": {
   "codemirror_mode": {
    "name": "ipython",
    "version": 3
   },
   "file_extension": ".py",
   "mimetype": "text/x-python",
   "name": "python",
   "nbconvert_exporter": "python",
   "pygments_lexer": "ipython3",
   "version": "3.11.5"
  }
 },
 "nbformat": 4,
 "nbformat_minor": 5
}
