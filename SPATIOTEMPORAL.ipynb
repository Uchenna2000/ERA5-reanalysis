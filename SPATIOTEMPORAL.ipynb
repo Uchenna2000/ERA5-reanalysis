{
 "cells": [
  {
   "cell_type": "markdown",
   "id": "b789b0a2",
   "metadata": {},
   "source": [
    "# This code fetches era5 monthly averaged reanalysis temperature data from cds from 1994 till 2024 for Africa and converts this temperature data to a 30-band geotiff file for visualization in QGIS"
   ]
  },
  {
   "cell_type": "code",
   "execution_count": 1,
   "id": "a14c0404",
   "metadata": {},
   "outputs": [],
   "source": [
    "import cdsapi"
   ]
  },
  {
   "cell_type": "code",
   "execution_count": 2,
   "id": "082b5033",
   "metadata": {},
   "outputs": [],
   "source": [
    "import numpy as np"
   ]
  },
  {
   "cell_type": "code",
   "execution_count": 2,
   "id": "da78c551",
   "metadata": {},
   "outputs": [],
   "source": [
    "#set your CDS API key and url\n",
    "url = \"https://cds.climate.copernicus.eu/api/v2\"\n",
    "cdsapi_key = \"275708:61653f8b-f5e5-4f25-8400-f7cd5d1a67b1\""
   ]
  },
  {
   "cell_type": "code",
   "execution_count": 3,
   "id": "12da3d9b",
   "metadata": {},
   "outputs": [],
   "source": [
    "c = cdsapi.Client(url = url, key = cdsapi_key )"
   ]
  },
  {
   "cell_type": "code",
   "execution_count": 4,
   "id": "1b9c4338",
   "metadata": {},
   "outputs": [
    {
     "name": "stderr",
     "output_type": "stream",
     "text": [
      "2024-01-21 05:55:27,956 INFO Welcome to the CDS\n",
      "2024-01-21 05:55:27,961 INFO Sending request to https://cds.climate.copernicus.eu/api/v2/resources/reanalysis-era5-single-levels-monthly-means\n",
      "2024-01-21 05:55:28,456 INFO Request is completed\n",
      "2024-01-21 05:55:28,458 INFO Downloading https://download-0016.copernicus-climate.eu/cache-compute-0016/cache/data2/adaptor.mars.internal-1705773126.0350935-9805-13-9e29fb9d-f311-4830-ae7f-43c2a8c8b47c.grib to download.grib (70.5M)\n",
      "2024-01-21 05:58:21,233 ERROR Download interupted: HTTPSConnectionPool(host='download-0016.copernicus-climate.eu', port=443): Read timed out.\n",
      "2024-01-21 05:58:21,238 ERROR Download incomplete, downloaded 5501952 byte(s) out of 73958400\n",
      "2024-01-21 05:58:21,239 WARNING Sleeping 10 seconds\n",
      "2024-01-21 05:58:31,256 WARNING Resuming download at byte 5501952\n",
      "2024-01-21 06:01:15,131 INFO Download rate 208.3K/s                                                                    \n"
     ]
    },
    {
     "data": {
      "text/plain": [
       "Result(content_length=73958400,content_type=application/x-grib,location=https://download-0016.copernicus-climate.eu/cache-compute-0016/cache/data2/adaptor.mars.internal-1705773126.0350935-9805-13-9e29fb9d-f311-4830-ae7f-43c2a8c8b47c.grib)"
      ]
     },
     "execution_count": 4,
     "metadata": {},
     "output_type": "execute_result"
    }
   ],
   "source": [
    "c.retrieve(\n",
    "    'reanalysis-era5-single-levels-monthly-means',\n",
    "    {\n",
    "        'format': 'grib',\n",
    "        'product_type': 'monthly_averaged_reanalysis',\n",
    "        'variable': '2m_temperature',\n",
    "        'year': list(range(1994, 2024)),\n",
    "        'month': [\n",
    "            '01', '02', '03',\n",
    "            '04', '05', '06',\n",
    "            '07', '08', '09',\n",
    "            '10', '11', '12',\n",
    "        ],\n",
    "        'time': '00:00',\n",
    "        'area': [40, -25, -35, 60],\n",
    "    },\n",
    "    'download.grib')"
   ]
  },
  {
   "cell_type": "code",
   "execution_count": 1,
   "id": "cd4a9227",
   "metadata": {
    "scrolled": false
   },
   "outputs": [
    {
     "name": "stderr",
     "output_type": "stream",
     "text": [
      "C:\\Users\\user\\anaconda\\lib\\site-packages\\pandas\\core\\arrays\\masked.py:60: UserWarning: Pandas requires version '1.3.6' or newer of 'bottleneck' (version '1.3.5' currently installed).\n",
      "  from pandas.core import (\n"
     ]
    }
   ],
   "source": [
    "import xarray as xr"
   ]
  },
  {
   "cell_type": "code",
   "execution_count": 3,
   "id": "5f88a260",
   "metadata": {},
   "outputs": [],
   "source": [
    "from osgeo import gdal, osr"
   ]
  },
  {
   "cell_type": "code",
   "execution_count": 4,
   "id": "2058e8f0",
   "metadata": {},
   "outputs": [
    {
     "name": "stderr",
     "output_type": "stream",
     "text": [
      "C:\\Users\\user\\anaconda\\lib\\site-packages\\gribapi\\__init__.py:23: UserWarning: ecCodes 2.31.0 or higher is recommended. You are running version 2.23.0\n",
      "  warnings.warn(\n"
     ]
    }
   ],
   "source": [
    "import cfgrib"
   ]
  },
  {
   "cell_type": "code",
   "execution_count": 5,
   "id": "97dfb668",
   "metadata": {},
   "outputs": [],
   "source": [
    "# Input GRIB file\n",
    "input_grib_file = 'download.grib'"
   ]
  },
  {
   "cell_type": "code",
   "execution_count": 7,
   "id": "d0b8f634",
   "metadata": {},
   "outputs": [],
   "source": [
    "# Output GeoTIFF file\n",
    "output_tiff_file = 'era5_annual_temperature.tif'"
   ]
  },
  {
   "cell_type": "code",
   "execution_count": 8,
   "id": "b704478b",
   "metadata": {},
   "outputs": [],
   "source": [
    "# Open the GRIB file using cfgrib\n",
    "ds = cfgrib.open_dataset(input_grib_file)"
   ]
  },
  {
   "cell_type": "code",
   "execution_count": 9,
   "id": "f75866be",
   "metadata": {},
   "outputs": [
    {
     "name": "stderr",
     "output_type": "stream",
     "text": [
      "C:\\Users\\user\\anaconda\\lib\\site-packages\\xarray\\core\\groupby.py:534: FutureWarning: 'Y' is deprecated and will be removed in a future version, please use 'YE' instead.\n",
      "  index_grouper = pd.Grouper(\n"
     ]
    }
   ],
   "source": [
    "# Calculate annual means\n",
    "ds_annual = ds.resample(time='Y').mean(dim='time')"
   ]
  },
  {
   "cell_type": "code",
   "execution_count": 10,
   "id": "50928357",
   "metadata": {
    "scrolled": true
   },
   "outputs": [],
   "source": [
    "# Extract latitude, longitude, and temperature data\n",
    "latitude = ds_annual.latitude.values\n",
    "longitude = ds_annual.longitude.values\n",
    "temperature = ds_annual.t2m.values"
   ]
  },
  {
   "cell_type": "code",
   "execution_count": 40,
   "id": "b58bc8ab",
   "metadata": {},
   "outputs": [],
   "source": [
    "# Create a multiband GeoTIFF file\n",
    "driver = gdal.GetDriverByName('GTiff')\n",
    "tiff_dataset = driver.Create(output_tiff_file, len(longitude), len(latitude), 30, gdal.GDT_Float32)"
   ]
  },
  {
   "cell_type": "code",
   "execution_count": 42,
   "id": "86661b86",
   "metadata": {},
   "outputs": [
    {
     "data": {
      "text/plain": [
       "0"
      ]
     },
     "execution_count": 42,
     "metadata": {},
     "output_type": "execute_result"
    }
   ],
   "source": [
    "# Set GeoTIFF metadata\n",
    "tiff_dataset.SetGeoTransform((longitude.min(), np.abs(longitude[1] - longitude[0]), 0, latitude.max(), 0, -np.abs(latitude[1] - latitude[0])))"
   ]
  },
  {
   "cell_type": "code",
   "execution_count": 43,
   "id": "e9a22c10",
   "metadata": {},
   "outputs": [
    {
     "data": {
      "text/plain": [
       "0"
      ]
     },
     "execution_count": 43,
     "metadata": {},
     "output_type": "execute_result"
    }
   ],
   "source": [
    "# Set projection to WGS 84 (EPSG:4326)\n",
    "srs = osr.SpatialReference()\n",
    "srs.ImportFromEPSG(4326)\n",
    "tiff_dataset.SetProjection(srs.ExportToWkt())"
   ]
  },
  {
   "cell_type": "code",
   "execution_count": 45,
   "id": "a95991cd",
   "metadata": {},
   "outputs": [],
   "source": [
    "# Write temperature data to each band\n",
    "for i in range(30):\n",
    "    tiff_band = tiff_dataset.GetRasterBand(i + 1)\n",
    "    tiff_band.WriteArray(temperature[i, :, :])\n",
    "    tiff_band.SetNoDataValue(np.nan)\n",
    "    tiff_band.FlushCache()"
   ]
  },
  {
   "cell_type": "code",
   "execution_count": 46,
   "id": "3fa10adf",
   "metadata": {},
   "outputs": [],
   "source": [
    "\n",
    "# Close the datasets\n",
    "ds.close()\n",
    "tiff_dataset = None"
   ]
  },
  {
   "cell_type": "code",
   "execution_count": null,
   "id": "d56344b6",
   "metadata": {},
   "outputs": [],
   "source": []
  }
 ],
 "metadata": {
  "kernelspec": {
   "display_name": "Python 3 (ipykernel)",
   "language": "python",
   "name": "python3"
  },
  "language_info": {
   "codemirror_mode": {
    "name": "ipython",
    "version": 3
   },
   "file_extension": ".py",
   "mimetype": "text/x-python",
   "name": "python",
   "nbconvert_exporter": "python",
   "pygments_lexer": "ipython3",
   "version": "3.11.5"
  }
 },
 "nbformat": 4,
 "nbformat_minor": 5
}
